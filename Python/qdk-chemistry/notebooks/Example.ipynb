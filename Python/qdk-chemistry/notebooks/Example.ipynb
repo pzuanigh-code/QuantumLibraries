{
 "cells": [
  {
   "cell_type": "markdown",
   "metadata": {},
   "source": [
    "# Example usage of JSME and JsMol widgets"
   ]
  },
  {
   "cell_type": "code",
   "execution_count": 1,
   "metadata": {},
   "outputs": [],
   "source": [
    "from qdk_chemistry.widgets import JsmeWidget, JsmolWidget"
   ]
  },
  {
   "cell_type": "markdown",
   "metadata": {},
   "source": [
    "1. Design molecule"
   ]
  },
  {
   "cell_type": "code",
   "execution_count": 2,
   "metadata": {},
   "outputs": [],
   "source": [
    "w = JsmeWidget()"
   ]
  },
  {
   "cell_type": "code",
   "execution_count": 3,
   "metadata": {
    "scrolled": true
   },
   "outputs": [
    {
     "data": {
      "text/html": [
       "\n",
       "<script type=\"text/javascript\" src=\"/nbextensions/jupyter_jsme/jsme/jsme.nocache.js\"></script>\n",
       "<script type=\"text/javascript\">\n",
       "function jsmeOnLoad() {\n",
       "    jsmeApp_ = new JSApplet.JSME(\"JSApp_1\", \"400px\", \"350px\", {\n",
       "        \"options\" : \"query,hydrogens\",\n",
       "        \"smiles\": \"\"\n",
       "    });\n",
       "}\n",
       "\n",
       "function saveAs(var_name) {\n",
       "    var molblock = jsmeApp_.molFile();\n",
       "    var smiles = jsmeApp_.smiles();\n",
       "    var jme = jsmeApp_.jmeFile();\n",
       "    var command = var_name + '.set_value(jme=\"' + jme + '\", smiles=\"' + smiles + '\", molblock=\"\"\"' + molblock + '\"\"\")';\n",
       "    console.log(command);\n",
       "    IPython.notebook.kernel.execute(command);\n",
       "}\n",
       "</script>\n",
       "<div id=\"JSApp_1\"></div>\n",
       "<button onclick=\"saveAs('w')\">save</button>\n"
      ],
      "text/plain": [
       "<qdk_chemistry.widgets.jsme_widget.JsmeWidget at 0x7fe534064e90>"
      ]
     },
     "execution_count": 3,
     "metadata": {},
     "output_type": "execute_result"
    }
   ],
   "source": [
    "w"
   ]
  },
  {
   "cell_type": "code",
   "execution_count": 4,
   "metadata": {},
   "outputs": [],
   "source": [
    "mol = w.to_mol(add_hs=True)"
   ]
  },
  {
   "cell_type": "code",
   "execution_count": 5,
   "metadata": {
    "scrolled": true
   },
   "outputs": [
    {
     "data": {
      "image/png": "[encoded data removed]",
      "text/plain": [
       "<rdkit.Chem.rdchem.Mol at 0x7fe517b23170>"
      ]
     },
     "execution_count": 5,
     "metadata": {},
     "output_type": "execute_result"
    }
   ],
   "source": [
    "mol"
   ]
  },
  {
   "cell_type": "markdown",
   "metadata": {},
   "source": [
    "2. Generate XYZ file from SMILES using rdkit"
   ]
  },
  {
   "cell_type": "code",
   "execution_count": 6,
   "metadata": {
    "scrolled": false
   },
   "outputs": [
    {
     "data": {
      "application/vnd.jupyter.widget-view+json": {
       "model_id": "30e10e7d31c24d19a605e1b2722e0ce3",
       "version_major": 2,
       "version_minor": 0
      },
      "text/plain": [
       "JsmolWidget(layout=Layout(align_self='stretch', height='400px'))"
      ]
     },
     "metadata": {},
     "output_type": "display_data"
    }
   ],
   "source": [
    "JsmolWidget.from_mol(mol)"
   ]
  },
  {
   "cell_type": "markdown",
   "metadata": {},
   "source": [
    "## Larger example: Beta carotene"
   ]
  },
  {
   "cell_type": "code",
   "execution_count": 7,
   "metadata": {},
   "outputs": [],
   "source": [
    "w2 = JsmeWidget(smiles=\"C/C(=C\\\\C=C\\\\C=C(C)\\\\C=C\\\\C=C(C)\\\\C=C\\\\C1=C(C)CCCC1(C)C)/C=C/C=C(C)/C=C/C2=C(C)CCCC2(C)C\")"
   ]
  },
  {
   "cell_type": "code",
   "execution_count": 8,
   "metadata": {
    "scrolled": false
   },
   "outputs": [
    {
     "data": {
      "text/html": [
       "\n",
       "<script type=\"text/javascript\" src=\"/nbextensions/jupyter_jsme/jsme/jsme.nocache.js\"></script>\n",
       "<script type=\"text/javascript\">\n",
       "function jsmeOnLoad() {\n",
       "    jsmeApp_ = new JSApplet.JSME(\"JSApp_2\", \"400px\", \"350px\", {\n",
       "        \"options\" : \"query,hydrogens\",\n",
       "        \"smiles\": \"C/C(=C\\C=C\\C=C(C)\\C=C\\C=C(C)\\C=C\\C1=C(C)CCCC1(C)C)/C=C/C=C(C)/C=C/C2=C(C)CCCC2(C)C\"\n",
       "    });\n",
       "}\n",
       "\n",
       "function saveAs(var_name) {\n",
       "    var molblock = jsmeApp_.molFile();\n",
       "    var smiles = jsmeApp_.smiles();\n",
       "    var jme = jsmeApp_.jmeFile();\n",
       "    var command = var_name + '.set_value(jme=\"' + jme + '\", smiles=\"' + smiles + '\", molblock=\"\"\"' + molblock + '\"\"\")';\n",
       "    console.log(command);\n",
       "    IPython.notebook.kernel.execute(command);\n",
       "}\n",
       "</script>\n",
       "<div id=\"JSApp_2\"></div>\n",
       "<button onclick=\"saveAs('w2')\">save</button>\n"
      ],
      "text/plain": [
       "<qdk_chemistry.widgets.jsme_widget.JsmeWidget at 0x7fe5170948d0>"
      ]
     },
     "execution_count": 8,
     "metadata": {},
     "output_type": "execute_result"
    }
   ],
   "source": [
    "w2"
   ]
  },
  {
   "cell_type": "code",
   "execution_count": 9,
   "metadata": {},
   "outputs": [],
   "source": [
    "bc = w2.to_mol(add_hs=True)"
   ]
  },
  {
   "cell_type": "code",
   "execution_count": 10,
   "metadata": {},
   "outputs": [
    {
     "data": {
      "image/png": "[encoded data removed]",
      "text/plain": [
       "<rdkit.Chem.rdchem.Mol at 0x7fe517037710>"
      ]
     },
     "execution_count": 10,
     "metadata": {},
     "output_type": "execute_result"
    }
   ],
   "source": [
    "bc"
   ]
  },
  {
   "cell_type": "code",
   "execution_count": 11,
   "metadata": {},
   "outputs": [
    {
     "name": "stdout",
     "output_type": "stream",
     "text": [
      "Solution did not converge. Lowest energy found: 103.32012579726138\n"
     ]
    },
    {
     "data": {
      "application/vnd.jupyter.widget-view+json": {
       "model_id": "855038e274324498b3e84826a28f17f1",
       "version_major": 2,
       "version_minor": 0
      },
      "text/plain": [
       "JsmolWidget(layout=Layout(align_self='stretch', height='400px'))"
      ]
     },
     "metadata": {},
     "output_type": "display_data"
    }
   ],
   "source": [
    "JsmolWidget.from_mol(bc)"
   ]
  },
  {
   "cell_type": "markdown",
   "metadata": {},
   "source": [
    "## Larger example: FeMoCo"
   ]
  },
  {
   "cell_type": "code",
   "execution_count": 12,
   "metadata": {},
   "outputs": [],
   "source": [
    "w3 = JsmeWidget(smiles=\"O=C(O)CCC1(CC(=O)O)O[Mo]45(OC1=O)[S+]6[Fe]3%12S[Fe]2%10[S+]7[Fe]8[S+]2[Fe]9%11S[Fe]%14([S+]34)[S+]5[Fe]6%13S[Fe]7([S+]89)[Cr-4]%10%11%12%13%14\")\n",
    "# Replace Carbon atom with Chromium to circumvent RDKit valence issue"
   ]
  },
  {
   "cell_type": "code",
   "execution_count": 13,
   "metadata": {},
   "outputs": [
    {
     "data": {
      "text/html": [
       "\n",
       "<script type=\"text/javascript\" src=\"/nbextensions/jupyter_jsme/jsme/jsme.nocache.js\"></script>\n",
       "<script type=\"text/javascript\">\n",
       "function jsmeOnLoad() {\n",
       "    jsmeApp_ = new JSApplet.JSME(\"JSApp_3\", \"400px\", \"350px\", {\n",
       "        \"options\" : \"query,hydrogens\",\n",
       "        \"smiles\": \"O=C(O)CCC1(CC(=O)O)O[Mo]45(OC1=O)[S+]6[Fe]3%12S[Fe]2%10[S+]7[Fe]8[S+]2[Fe]9%11S[Fe]%14([S+]34)[S+]5[Fe]6%13S[Fe]7([S+]89)[Cr-4]%10%11%12%13%14\"\n",
       "    });\n",
       "}\n",
       "\n",
       "function saveAs(var_name) {\n",
       "    var molblock = jsmeApp_.molFile();\n",
       "    var smiles = jsmeApp_.smiles();\n",
       "    var jme = jsmeApp_.jmeFile();\n",
       "    var command = var_name + '.set_value(jme=\"' + jme + '\", smiles=\"' + smiles + '\", molblock=\"\"\"' + molblock + '\"\"\")';\n",
       "    console.log(command);\n",
       "    IPython.notebook.kernel.execute(command);\n",
       "}\n",
       "</script>\n",
       "<div id=\"JSApp_3\"></div>\n",
       "<button onclick=\"saveAs('w3')\">save</button>\n"
      ],
      "text/plain": [
       "<qdk_chemistry.widgets.jsme_widget.JsmeWidget at 0x7fe517041490>"
      ]
     },
     "execution_count": 13,
     "metadata": {},
     "output_type": "execute_result"
    }
   ],
   "source": [
    "w3"
   ]
  },
  {
   "cell_type": "code",
   "execution_count": 14,
   "metadata": {},
   "outputs": [
    {
     "name": "stderr",
     "output_type": "stream",
     "text": [
      "RDKit ERROR: [09:21:40] UFFTYPER: Unrecognized atom type: Mo5 (11)\n",
      "RDKit ERROR: [09:21:40] UFFTYPER: Unrecognized charge state for atom: 15\n",
      "RDKit ERROR: [09:21:40] UFFTYPER: Unrecognized atom type: Fe6 (16)\n",
      "RDKit ERROR: [09:21:40] UFFTYPER: Unrecognized atom type: Fe6 (18)\n",
      "RDKit ERROR: [09:21:40] UFFTYPER: Unrecognized charge state for atom: 19\n",
      "RDKit ERROR: [09:21:40] UFFTYPER: Unrecognized atom type: Fe5 (20)\n",
      "RDKit ERROR: [09:21:40] UFFTYPER: Unrecognized charge state for atom: 21\n",
      "RDKit ERROR: [09:21:40] UFFTYPER: Unrecognized atom type: Fe6 (22)\n",
      "RDKit ERROR: [09:21:40] UFFTYPER: Unrecognized atom type: Fe6 (24)\n",
      "RDKit ERROR: [09:21:40] UFFTYPER: Unrecognized charge state for atom: 25\n",
      "RDKit ERROR: [09:21:40] UFFTYPER: Unrecognized charge state for atom: 26\n",
      "RDKit ERROR: [09:21:40] UFFTYPER: Unrecognized atom type: Fe6 (27)\n",
      "RDKit ERROR: [09:21:40] UFFTYPER: Unrecognized atom type: Fe6 (29)\n",
      "RDKit ERROR: [09:21:40] UFFTYPER: Unrecognized charge state for atom: 30\n",
      "RDKit ERROR: [09:21:40] UFFTYPER: Unrecognized hybridization for atom: 31\n",
      "RDKit ERROR: [09:21:40] UFFTYPER: Unrecognized atom type: Cr (31)\n"
     ]
    }
   ],
   "source": [
    "femoco = w3.to_mol(add_hs=True)"
   ]
  },
  {
   "cell_type": "code",
   "execution_count": 15,
   "metadata": {},
   "outputs": [
    {
     "data": {
      "image/png": "[encoded data removed]",
      "text/plain": [
       "<rdkit.Chem.rdchem.Mol at 0x7fe517037120>"
      ]
     },
     "execution_count": 15,
     "metadata": {},
     "output_type": "execute_result"
    }
   ],
   "source": [
    "femoco"
   ]
  },
  {
   "cell_type": "code",
   "execution_count": 16,
   "metadata": {},
   "outputs": [
    {
     "name": "stdout",
     "output_type": "stream",
     "text": [
      "Solution did not converge. Lowest energy found: -1.0\n"
     ]
    },
    {
     "data": {
      "application/vnd.jupyter.widget-view+json": {
       "model_id": "dc624ee2570d4293a14739b2754196ff",
       "version_major": 2,
       "version_minor": 0
      },
      "text/plain": [
       "JsmolWidget(layout=Layout(align_self='stretch', height='400px'))"
      ]
     },
     "metadata": {},
     "output_type": "display_data"
    }
   ],
   "source": [
    "JsmolWidget.from_mol(femoco)"
   ]
  },
  {
   "cell_type": "code",
   "execution_count": null,
   "metadata": {},
   "outputs": [],
   "source": []
  }
 ],
 "metadata": {
  "kernelspec": {
   "display_name": "Python 3",
   "language": "python",
   "name": "python3"
  },
  "language_info": {
   "codemirror_mode": {
    "name": "ipython",
    "version": 3
   },
   "file_extension": ".py",
   "mimetype": "text/x-python",
   "name": "python",
   "nbconvert_exporter": "python",
   "pygments_lexer": "ipython3",
   "version": "3.7.9"
  }
 },
 "nbformat": 4,
 "nbformat_minor": 4
}
